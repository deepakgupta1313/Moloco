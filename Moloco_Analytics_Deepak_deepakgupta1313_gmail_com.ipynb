{
  "nbformat": 4,
  "nbformat_minor": 0,
  "metadata": {
    "colab": {
      "name": "Moloco_Analytics_Deepak_deepakgupta1313@gmail.com.ipynb",
      "version": "0.3.2",
      "provenance": [],
      "collapsed_sections": [],
      "include_colab_link": true
    },
    "kernelspec": {
      "name": "python3",
      "display_name": "Python 3"
    }
  },
  "cells": [
    {
      "cell_type": "markdown",
      "metadata": {
        "id": "view-in-github",
        "colab_type": "text"
      },
      "source": [
        "<a href=\"https://colab.research.google.com/github/deepakgupta1313/Moloco/blob/master/Moloco_Analytics_Deepak_deepakgupta1313_gmail_com.ipynb\" target=\"_parent\"><img src=\"https://colab.research.google.com/assets/colab-badge.svg\" alt=\"Open In Colab\"/></a>"
      ]
    },
    {
      "cell_type": "code",
      "metadata": {
        "id": "JqVsNlDmFUGt",
        "colab_type": "code",
        "colab": {}
      },
      "source": [
        "import numpy as np\n",
        "import pandas as pd\n",
        "from datetime import datetime"
      ],
      "execution_count": 0,
      "outputs": []
    },
    {
      "cell_type": "code",
      "metadata": {
        "id": "B9Hng0YUFY7a",
        "colab_type": "code",
        "colab": {}
      },
      "source": [
        "data=pd.read_csv(\"Adops & Data Scientist Sample Data - Q1 Analytics.csv\");"
      ],
      "execution_count": 0,
      "outputs": []
    },
    {
      "cell_type": "code",
      "metadata": {
        "id": "Pb9xXAmtFdyA",
        "colab_type": "code",
        "outputId": "8d314606-c088-4120-b6c1-6da4c478e8c6",
        "colab": {
          "base_uri": "https://localhost:8080/",
          "height": 139
        }
      },
      "source": [
        "print(data.head())\n",
        "print(data.shape)"
      ],
      "execution_count": 3,
      "outputs": [
        {
          "output_type": "stream",
          "text": [
            "                    ts user_id country_id site_id\n",
            "0  2019-02-01 00:01:24  LC36FC        TL6   N0OTG\n",
            "1  2019-02-01 00:10:19  LC39B6        TL6   N0OTG\n",
            "2  2019-02-01 00:21:50  LC3500        TL6   N0OTG\n",
            "3  2019-02-01 00:22:50  LC374F        TL6   N0OTG\n",
            "4  2019-02-01 00:23:44  LCC1C3        TL6   QGO3G\n",
            "(3553, 4)\n"
          ],
          "name": "stdout"
        }
      ]
    },
    {
      "cell_type": "markdown",
      "metadata": {
        "id": "q0LpXxQDF_X6",
        "colab_type": "text"
      },
      "source": [
        "Consider only the rows with country_id = \"BDV\" (there are 844 such rows). For each site_id, we can compute the number of unique user_id's found in these 844 rows. Which site_id has the largest number of unique users? And what's the number?"
      ]
    },
    {
      "cell_type": "code",
      "metadata": {
        "id": "ZAW7mQDNF479",
        "colab_type": "code",
        "outputId": "7cefe093-65a5-46e9-e997-56d4ff338cf8",
        "colab": {
          "base_uri": "https://localhost:8080/",
          "height": 329
        }
      },
      "source": [
        "country_id=\"BDV\";\n",
        "data1=data[data[\"country_id\"]==country_id];\n",
        "print(data1.shape)\n",
        "print(data1.head())\n",
        "\n",
        "data1_unique=data1[['user_id', 'site_id']];\n",
        "data1_unique=data1_unique.drop_duplicates()\n",
        "print(data1_unique.head());\n",
        "print(data1_unique.shape);\n",
        "data1_unique=data1_unique[\"site_id\"];\n",
        "print(data1_unique.value_counts())"
      ],
      "execution_count": 4,
      "outputs": [
        {
          "output_type": "stream",
          "text": [
            "(844, 4)\n",
            "                     ts user_id country_id site_id\n",
            "13  2019-02-01 00:47:58  LC3C22        BDV   N0OTG\n",
            "32  2019-02-01 02:46:15  LC375A        BDV   5NPAU\n",
            "87  2019-02-01 06:44:42  LC392E        BDV   N0OTG\n",
            "88  2019-02-01 07:36:56  LC3FAE        BDV   5NPAU\n",
            "94  2019-02-01 08:58:35  LC3AFF        BDV   3POLC\n",
            "   user_id site_id\n",
            "13  LC3C22   N0OTG\n",
            "32  LC375A   5NPAU\n",
            "87  LC392E   N0OTG\n",
            "88  LC3FAE   5NPAU\n",
            "94  LC3AFF   3POLC\n",
            "(636, 2)\n",
            "5NPAU    544\n",
            "N0OTG     90\n",
            "3POLC      2\n",
            "Name: site_id, dtype: int64\n"
          ],
          "name": "stdout"
        }
      ]
    },
    {
      "cell_type": "markdown",
      "metadata": {
        "id": "ZH-fxb7DIO5-",
        "colab_type": "text"
      },
      "source": [
        "Between 2019-02-03 00:00:00 and 2019-02-04 23:59:59, there are four users who visited a certain site more than 10 times. Find these four users & which sites they (each) visited more than 10 times. (Simply provides four triples in the form (user_id, site_id, number of visits) in the box below.)"
      ]
    },
    {
      "cell_type": "code",
      "metadata": {
        "id": "3LgEMxYJG79d",
        "colab_type": "code",
        "outputId": "8b3162b2-14f8-4185-f26f-07b6494128c9",
        "colab": {
          "base_uri": "https://localhost:8080/",
          "height": 433
        }
      },
      "source": [
        "start_time=\"2019-02-03 00:00:00\";\n",
        "end_time=\"2019-02-04 23:59:59\";\n",
        "data2=data;\n",
        "data2[\"ts\"]=pd.to_datetime(data2[\"ts\"]);\n",
        "print(data2.head());\n",
        "data2=data2[data2[\"ts\"]>=start_time];\n",
        "data2=data2[data2[\"ts\"]<=end_time];\n",
        "print(data2.head());\n",
        "data2=data2[['user_id', 'site_id']];\n",
        "print(data2.head());\n",
        "print(data2.groupby(['user_id','site_id']).size().reset_index(name='Count').sort_values(by='Count', ascending=False).head())"
      ],
      "execution_count": 5,
      "outputs": [
        {
          "output_type": "stream",
          "text": [
            "                   ts user_id country_id site_id\n",
            "0 2019-02-01 00:01:24  LC36FC        TL6   N0OTG\n",
            "1 2019-02-01 00:10:19  LC39B6        TL6   N0OTG\n",
            "2 2019-02-01 00:21:50  LC3500        TL6   N0OTG\n",
            "3 2019-02-01 00:22:50  LC374F        TL6   N0OTG\n",
            "4 2019-02-01 00:23:44  LCC1C3        TL6   QGO3G\n",
            "                      ts user_id country_id site_id\n",
            "1049 2019-02-03 00:02:31  LC3C7E        TL6   3POLC\n",
            "1050 2019-02-03 00:03:09  LC3C7E        TL6   3POLC\n",
            "1051 2019-02-03 00:03:46  LC3C7E        TL6   3POLC\n",
            "1052 2019-02-03 00:04:12  LC3C7E        TL6   3POLC\n",
            "1053 2019-02-03 00:04:25  LC3C7E        TL6   3POLC\n",
            "     user_id site_id\n",
            "1049  LC3C7E   3POLC\n",
            "1050  LC3C7E   3POLC\n",
            "1051  LC3C7E   3POLC\n",
            "1052  LC3C7E   3POLC\n",
            "1053  LC3C7E   3POLC\n",
            "    user_id site_id  Count\n",
            "417  LC3A59   N0OTG     26\n",
            "3    LC06C3   N0OTG     25\n",
            "493  LC3C9D   N0OTG     17\n",
            "485  LC3C7E   3POLC     15\n",
            "357  LC38EB   N0OTG      9\n"
          ],
          "name": "stdout"
        }
      ]
    },
    {
      "cell_type": "markdown",
      "metadata": {
        "id": "8WRNqdixLr37",
        "colab_type": "text"
      },
      "source": [
        "For each site, compute the unique number of users whose last visit (found in the original data set) was to that site. For instance, user \"LC3561\"'s last visit is to \"N0OTG\" based on timestamp data. Based on this measure, what are top three sites? (hint: site \"3POLC\" is ranked at 5th with 28 users whose last visit in the data set was to 3POLC; simply provide three pairs in the form (site_id, number of users).)\n"
      ]
    },
    {
      "cell_type": "code",
      "metadata": {
        "id": "C5mUM4d1JCM1",
        "colab_type": "code",
        "outputId": "42f6aa69-0fb5-4301-84d0-70f675375965",
        "colab": {
          "base_uri": "https://localhost:8080/",
          "height": 312
        }
      },
      "source": [
        "data3=data.sort_values(by=\"ts\");\n",
        "data3=data3.loc[data3.groupby(\"user_id\").ts.idxmax()];\n",
        "print(data3.head())\n",
        "print(data3.loc[data3[\"user_id\"]==\"LC3561\"]);\n",
        "data3=data3[\"site_id\"];\n",
        "print(data3.value_counts())\n"
      ],
      "execution_count": 6,
      "outputs": [
        {
          "output_type": "stream",
          "text": [
            "                      ts user_id country_id site_id\n",
            "1422 2019-02-03 18:52:50  LC00C3        QLT   5NPAU\n",
            "1767 2019-02-04 11:35:10  LC01C3        QLT   5NPAU\n",
            "733  2019-02-02 14:14:44  LC05C3        BDV   5NPAU\n",
            "3078 2019-02-07 01:16:12  LC06C3        TL6   N0OTG\n",
            "2402 2019-02-05 19:06:42  LC07C3        BDV   5NPAU\n",
            "                      ts user_id country_id site_id\n",
            "3545 2019-02-07 23:44:34  LC3561        TL6   N0OTG\n",
            "5NPAU    992\n",
            "N0OTG    561\n",
            "QGO3G    289\n",
            "GVOFK     42\n",
            "3POLC     28\n",
            "RT9Z6      2\n",
            "JSUUP      1\n",
            "EUZ/Q      1\n",
            "Name: site_id, dtype: int64\n"
          ],
          "name": "stdout"
        }
      ]
    },
    {
      "cell_type": "markdown",
      "metadata": {
        "id": "djwfrg-oN1vj",
        "colab_type": "text"
      },
      "source": [
        "For each user, determine the first site he/she visited and the last site he/she visited based on the timestamp data. Compute the number of users whose first/last visits are to the same website. What is the number?\n"
      ]
    },
    {
      "cell_type": "code",
      "metadata": {
        "id": "TyBEdf0ALyJl",
        "colab_type": "code",
        "outputId": "d425b169-21b7-4e2d-b183-ab1722e17515",
        "colab": {
          "base_uri": "https://localhost:8080/",
          "height": 69
        }
      },
      "source": [
        "data4=data.sort_values(by=\"ts\");\n",
        "data4_first=data4.loc[data4.groupby(\"user_id\").ts.idxmin()];\n",
        "data4_last=data4.loc[data4.groupby(\"user_id\").ts.idxmax()];\n",
        "#print(data4_first.head())\n",
        "data4_first=data4_first[['user_id', 'site_id']];\n",
        "data4_last=data4_last[['user_id', 'site_id']];\n",
        "print(data4_first.shape);\n",
        "print(data4_last.shape)\n",
        "data4=pd.merge(data4_first, data4_last, how='inner');\n",
        "\n",
        "print(data4.shape)"
      ],
      "execution_count": 7,
      "outputs": [
        {
          "output_type": "stream",
          "text": [
            "(1916, 2)\n",
            "(1916, 2)\n",
            "(1670, 2)\n"
          ],
          "name": "stdout"
        }
      ]
    },
    {
      "cell_type": "code",
      "metadata": {
        "id": "wFqfQObFOmUO",
        "colab_type": "code",
        "colab": {}
      },
      "source": [
        ""
      ],
      "execution_count": 0,
      "outputs": []
    }
  ]
}